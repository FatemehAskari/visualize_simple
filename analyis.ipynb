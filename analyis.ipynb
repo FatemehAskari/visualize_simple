{
 "cells": [
  {
   "cell_type": "code",
   "execution_count": null,
   "id": "e2a97e83",
   "metadata": {},
   "outputs": [
    {
     "name": "stdout",
     "output_type": "stream",
     "text": [
      "Wrote C:\\Users\\user\\Desktop\\FatemehUni\\master\\project\\understanding_visual_reasoning\\logit_lens\\vis1\\index.json with 100 items\n"
     ]
    }
   ],
   "source": [
    "#!/usr/bin/env python3\n",
    "import os, json, glob\n",
    "\n",
    "SITE_ROOT   = r\"C:\\Users\\user\\Desktop\\FatemehUni\\master\\project\\understanding_visual_reasoning\\logit_lens\\vis1\"\n",
    "\n",
    "# SITE_ROOT   = os.path.dirname(os.path.abspath(__file__))\n",
    "REPORT_DIR  = os.path.join(SITE_ROOT, \"reports\")  # where your logitlens_once_*.json files are\n",
    "OUT_JSON    = os.path.join(SITE_ROOT, \"index.json\")\n",
    "\n",
    "def to_rel_image_from_image_path(abs_or_rel_path: str) -> str:\n",
    "    \"\"\"\n",
    "    From JSON[\"image_path\"], extract a path starting at the 'data/' segment:\n",
    "      '/home/.../data/images_row/trial-20_0.png' -> 'data/images_row/trial-20_0.png'\n",
    "    If no 'data' segment is found, fallback to the basename.\n",
    "    \"\"\"\n",
    "    p = abs_or_rel_path.replace(\"\\\\\", \"/\")\n",
    "    parts = p.split(\"/\")\n",
    "    if \"data\" in parts:\n",
    "        i = parts.index(\"data\")\n",
    "        return \"/\".join(parts[i:])\n",
    "    return os.path.basename(p)\n",
    "\n",
    "def main():\n",
    "    items = []\n",
    "    pattern = os.path.join(REPORT_DIR, \"logitlens_once_*.json\")\n",
    "    for jpath in sorted(glob.glob(pattern)):\n",
    "        try:\n",
    "            with open(jpath, \"r\", encoding=\"utf-8\") as f:\n",
    "                payload = json.load(f)\n",
    "        except Exception as e:\n",
    "            print(f\"[skip] {jpath} (read error: {e})\")\n",
    "            continue\n",
    "\n",
    "        # image (relative from 'data/')\n",
    "        img_rel = to_rel_image_from_image_path(payload.get(\"image_path\", \"\"))\n",
    "\n",
    "        # name label\n",
    "        name = os.path.splitext(os.path.basename(img_rel))[0] if img_rel else os.path.splitext(os.path.basename(jpath))[0]\n",
    "\n",
    "        # prompt (optional)\n",
    "        prompt = payload.get(\"prompt\") or payload.get(\"QUESTION\") or \"\"\n",
    "\n",
    "        # store json path relative to site root (use forward slashes)\n",
    "        json_rel = os.path.relpath(jpath, SITE_ROOT).replace(\"\\\\\", \"/\")\n",
    "\n",
    "        items.append({\n",
    "            \"name\": name,\n",
    "            \"json\": json_rel,\n",
    "            \"image\": img_rel,   # e.g. data/...\n",
    "        })\n",
    "\n",
    "    with open(OUT_JSON, \"w\", encoding=\"utf-8\") as f:\n",
    "        json.dump(items, f, ensure_ascii=False, indent=2)\n",
    "\n",
    "    print(f\"Wrote {OUT_JSON} with {len(items)} items\")\n",
    "\n",
    "if __name__ == \"__main__\":\n",
    "    main()\n"
   ]
  }
 ],
 "metadata": {
  "kernelspec": {
   "display_name": "Python 3",
   "language": "python",
   "name": "python3"
  },
  "language_info": {
   "codemirror_mode": {
    "name": "ipython",
    "version": 3
   },
   "file_extension": ".py",
   "mimetype": "text/x-python",
   "name": "python",
   "nbconvert_exporter": "python",
   "pygments_lexer": "ipython3",
   "version": "3.11.2"
  }
 },
 "nbformat": 4,
 "nbformat_minor": 5
}
